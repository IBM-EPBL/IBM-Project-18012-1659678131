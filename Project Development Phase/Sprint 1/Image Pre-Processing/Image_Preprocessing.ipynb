{
  "nbformat": 4,
  "nbformat_minor": 0,
  "metadata": {
    "colab": {
      "provenance": []
    },
    "kernelspec": {
      "name": "python3",
      "display_name": "Python 3"
    },
    "language_info": {
      "name": "python"
    }
  },
  "cells": [
    {
      "cell_type": "markdown",
      "source": [
        "#Data Collection \n",
        "###Download the dataset"
      ],
      "metadata": {
        "id": "DDkD0UvOvPxj"
      }
    },
    {
      "cell_type": "code",
      "source": [
        "from google.colab import drive\n",
        "drive.mount('/content/drive')"
      ],
      "metadata": {
        "colab": {
          "base_uri": "https://localhost:8080/"
        },
        "id": "2XYVAp5jngRD",
        "outputId": "af471cdd-a5ed-4e30-870d-1546ec623986"
      },
      "execution_count": null,
      "outputs": [
        {
          "output_type": "stream",
          "name": "stdout",
          "text": [
            "Drive already mounted at /content/drive; to attempt to forcibly remount, call drive.mount(\"/content/drive\", force_remount=True).\n"
          ]
        }
      ]
    },
    {
      "cell_type": "code",
      "execution_count": null,
      "metadata": {
        "id": "UaC6F4Uyl64C"
      },
      "outputs": [],
      "source": [
        "import warnings\n",
        "warnings.filterwarnings(\"ignore\")"
      ]
    },
    {
      "cell_type": "markdown",
      "source": [
        "#Image Pre-processing\n",
        "Importing the necessary libraries"
      ],
      "metadata": {
        "id": "sr1-fTO2mYvm"
      }
    },
    {
      "cell_type": "code",
      "source": [
        "import numpy as np\n",
        "import pandas as pd\n",
        "import matplotlib.pyplot as plt\n",
        "import seaborn as sns\n",
        "import zipfile as zf\n",
        "import os\n",
        "import random\n",
        "import cv2\n",
        "import pickle\n",
        "from imutils import build_montages\n",
        "from imutils import paths\n",
        "from sklearn.metrics import classification_report,confusion_matrix\n",
        "from sklearn import metrics\n",
        "from sklearn.preprocessing import LabelEncoder,LabelBinarizer\n",
        "from sklearn.model_selection import train_test_split\n",
        "from sklearn.ensemble import RandomForestClassifier,GradientBoostingClassifier,ExtraTreesClassifier\n",
        "from skimage import feature\n",
        "from google.colab.patches import cv2_imshow"
      ],
      "metadata": {
        "id": "Kllof9XTmctq"
      },
      "execution_count": null,
      "outputs": []
    },
    {
      "cell_type": "code",
      "source": [
        "sns.set()\n",
        "os.getcwd()"
      ],
      "metadata": {
        "colab": {
          "base_uri": "https://localhost:8080/",
          "height": 35
        },
        "id": "0EPhsTvDoDbM",
        "outputId": "a1dcda2e-80cc-454c-bc81-b82c4a7ead72"
      },
      "execution_count": null,
      "outputs": [
        {
          "output_type": "execute_result",
          "data": {
            "text/plain": [
              "'/content'"
            ],
            "application/vnd.google.colaboratory.intrinsic+json": {
              "type": "string"
            }
          },
          "metadata": {},
          "execution_count": 114
        }
      ]
    },
    {
      "cell_type": "markdown",
      "source": [
        "##Functions to load and quantify the images"
      ],
      "metadata": {
        "id": "eiQKlCHlmiop"
      }
    },
    {
      "cell_type": "code",
      "source": [
        "def quantify_image(image):\n",
        "    features = feature.hog(image, \n",
        "                           orientations=9, \n",
        "                           pixels_per_cell=(10,10), \n",
        "                           cells_per_block=(2,2), \n",
        "                           transform_sqrt=True, \n",
        "                           block_norm=\"L1\")\n",
        "    return features"
      ],
      "metadata": {
        "id": "7j6pO69Hmmrz"
      },
      "execution_count": null,
      "outputs": []
    },
    {
      "cell_type": "code",
      "source": [
        "def load_split(path):\n",
        "    path_images = list(paths.list_images(path))\n",
        "    data=[]\n",
        "    labels=[]\n",
        "\n",
        "    for path_image in path_images:\n",
        "        label = path_image.split(os.path.sep)[-2]\n",
        "        image = cv2.imread(path_image)\n",
        "        image = cv2.cvtColor(image,cv2.COLOR_BGR2GRAY)\n",
        "        image = cv2.resize(image, (200,200))\n",
        "        image = cv2.threshold(image,0,225,cv2.THRESH_BINARY_INV | cv2.THRESH_OTSU)[1]\n",
        "\n",
        "        features = quantify_image(image)\n",
        "        data.append(features)\n",
        "        labels.append(label)\n",
        "\n",
        "    return (np.array(data), np.array(labels))"
      ],
      "metadata": {
        "id": "6cR_SJucmvCh"
      },
      "execution_count": null,
      "outputs": []
    },
    {
      "cell_type": "markdown",
      "source": [
        "#Using spiral & Wave images\n",
        "##Defining the path for training data and testing data"
      ],
      "metadata": {
        "id": "J-dIbGzKm-23"
      }
    },
    {
      "cell_type": "code",
      "source": [
        "handle_spiral = zf.ZipFile('/content/drive/MyDrive/dataset.zip')\n",
        "handle_spiral.extractall('dataset')\n",
        "handle_spiral.close()"
      ],
      "metadata": {
        "id": "jbR8ALf_l4iS"
      },
      "execution_count": null,
      "outputs": []
    },
    {
      "cell_type": "code",
      "source": [
        "s_w_train_healthy = os.listdir('dataset/spiral_wave/training/healthy/')\n",
        "s_w_train_park = os.listdir('dataset/spiral_wave/training/parkinson/')\n",
        "\n",
        "fp_s_w_train_healthy = 'dataset/spiral_wave/training/healthy/'\n",
        "fp_s_w_train_park = 'dataset/spiral_wave/training/parkinson/'\n",
        "\n",
        "s_w_test_healthy = os.listdir('dataset/spiral_wave/testing/healthy/')\n",
        "s_w_test_park = os.listdir('dataset/spiral_wave/testing/parkinson/')\n",
        "\n",
        "fp_s_w_test_healthy = 'dataset/spiral_wave/testing/healthy/'\n",
        "fp_s_w_test_park = 'dataset/spiral_wave/testing/parkinson/'"
      ],
      "metadata": {
        "id": "Op4hpljco2ia"
      },
      "execution_count": null,
      "outputs": []
    },
    {
      "cell_type": "code",
      "source": [
        "Xtrain = []\n",
        "Xtest = []\n",
        "outputs = []\n",
        "Ytrain = []\n",
        "Ytest= []\n",
        "\n",
        "for i in s_w_train_healthy:\n",
        "  image = cv2.imread(fp_s_w_train_healthy+i)\n",
        "  image = cv2.cvtColor(image , cv2.COLOR_BGR2GRAY)\n",
        "  image = cv2.resize(image , (200,200))\n",
        "  image =cv2.threshold(image, 0, 255,cv2.THRESH_BINARY_INV | cv2.THRESH_OTSU)[1]\n",
        "  features = quantify_image(image)\n",
        "  Xtrain.append(features)\n",
        "  Ytrain.append('healthy')\n",
        "\n",
        "for i in s_w_train_park:\n",
        "  image = cv2.imread(fp_s_w_train_park+i)\n",
        "  image = cv2.cvtColor(image , cv2.COLOR_BGR2GRAY)\n",
        "  image = cv2.resize(image , (200,200))\n",
        "  image = cv2.threshold(image ,0,255,cv2.THRESH_BINARY_INV | cv2.THRESH_OTSU)[1]\n",
        "  features = quantify_image(image)\n",
        "  Xtrain.append(features)\n",
        "  Ytrain.append('parkinson')\n",
        "\n",
        "for i in s_w_test_healthy:\n",
        "  image = cv2.imread(fp_s_w_test_healthy+i)\n",
        "  outputs.append(image)\n",
        "  image = cv2.cvtColor(image , cv2.COLOR_BGR2GRAY)\n",
        "  image = cv2.resize(image , (200,200))\n",
        "  image = cv2.threshold(image ,0,255,cv2.THRESH_BINARY_INV | cv2.THRESH_OTSU)[1]\n",
        "  features = quantify_image(image)\n",
        "  Xtest.append(features)\n",
        "  Ytest.append('healthy')\n",
        "\n",
        "for i in s_w_test_park:\n",
        "  image = cv2.imread(fp_s_w_test_park+i)\n",
        "  outputs.append(image)\n",
        "  image = cv2.cvtColor(image , cv2.COLOR_BGR2GRAY)\n",
        "  image = cv2.resize(image , (200,200))\n",
        "  image = cv2.threshold(image ,0,255,cv2.THRESH_BINARY_INV | cv2.THRESH_OTSU)[1]\n",
        "  features = quantify_image(image)\n",
        "  Xtest.append(features)\n",
        "  Ytest.append('parkinson')"
      ],
      "metadata": {
        "id": "hRqylsxdpK2Z"
      },
      "execution_count": null,
      "outputs": []
    },
    {
      "cell_type": "code",
      "source": [
        "Xtrain = np.array(Xtrain)\n",
        "Xtest = np.array(Xtest)\n",
        "Ytrain = np.array(Ytrain)\n",
        "Ytest = np.array(Ytest)\n",
        "Xtrain"
      ],
      "metadata": {
        "colab": {
          "base_uri": "https://localhost:8080/"
        },
        "id": "1gjyPmASpQIH",
        "outputId": "5463cf86-f0de-45cd-b663-99612d80610e"
      },
      "execution_count": null,
      "outputs": [
        {
          "output_type": "execute_result",
          "data": {
            "text/plain": [
              "array([[0., 0., 0., ..., 0., 0., 0.],\n",
              "       [0., 0., 0., ..., 0., 0., 0.],\n",
              "       [0., 0., 0., ..., 0., 0., 0.],\n",
              "       ...,\n",
              "       [0., 0., 0., ..., 0., 0., 0.],\n",
              "       [0., 0., 0., ..., 0., 0., 0.],\n",
              "       [0., 0., 0., ..., 0., 0., 0.]])"
            ]
          },
          "metadata": {},
          "execution_count": 120
        }
      ]
    },
    {
      "cell_type": "code",
      "source": [
        "Ytrain"
      ],
      "metadata": {
        "colab": {
          "base_uri": "https://localhost:8080/"
        },
        "id": "UxAdkAzzpUGu",
        "outputId": "88cd502d-524c-45d0-f40b-c3acc0a757fa"
      },
      "execution_count": null,
      "outputs": [
        {
          "output_type": "execute_result",
          "data": {
            "text/plain": [
              "array(['healthy', 'healthy', 'healthy', 'healthy', 'healthy', 'healthy',\n",
              "       'healthy', 'healthy', 'healthy', 'healthy', 'healthy', 'healthy',\n",
              "       'healthy', 'healthy', 'healthy', 'healthy', 'healthy', 'healthy',\n",
              "       'healthy', 'healthy', 'healthy', 'healthy', 'healthy', 'healthy',\n",
              "       'healthy', 'healthy', 'healthy', 'healthy', 'healthy', 'healthy',\n",
              "       'healthy', 'healthy', 'healthy', 'healthy', 'healthy', 'healthy',\n",
              "       'healthy', 'healthy', 'healthy', 'healthy', 'healthy', 'healthy',\n",
              "       'healthy', 'healthy', 'healthy', 'healthy', 'healthy', 'healthy',\n",
              "       'healthy', 'healthy', 'healthy', 'healthy', 'healthy', 'healthy',\n",
              "       'healthy', 'healthy', 'healthy', 'healthy', 'healthy', 'healthy',\n",
              "       'healthy', 'healthy', 'healthy', 'healthy', 'healthy', 'healthy',\n",
              "       'healthy', 'healthy', 'healthy', 'healthy', 'healthy', 'healthy',\n",
              "       'parkinson', 'parkinson', 'parkinson', 'parkinson', 'parkinson',\n",
              "       'parkinson', 'parkinson', 'parkinson', 'parkinson', 'parkinson',\n",
              "       'parkinson', 'parkinson', 'parkinson', 'parkinson', 'parkinson',\n",
              "       'parkinson', 'parkinson', 'parkinson', 'parkinson', 'parkinson',\n",
              "       'parkinson', 'parkinson', 'parkinson', 'parkinson', 'parkinson',\n",
              "       'parkinson', 'parkinson', 'parkinson', 'parkinson', 'parkinson',\n",
              "       'parkinson', 'parkinson', 'parkinson', 'parkinson', 'parkinson',\n",
              "       'parkinson', 'parkinson', 'parkinson', 'parkinson', 'parkinson',\n",
              "       'parkinson', 'parkinson', 'parkinson', 'parkinson', 'parkinson',\n",
              "       'parkinson', 'parkinson', 'parkinson', 'parkinson', 'parkinson',\n",
              "       'parkinson', 'parkinson', 'parkinson', 'parkinson', 'parkinson',\n",
              "       'parkinson', 'parkinson', 'parkinson', 'parkinson', 'parkinson',\n",
              "       'parkinson', 'parkinson', 'parkinson', 'parkinson', 'parkinson',\n",
              "       'parkinson', 'parkinson', 'parkinson', 'parkinson', 'parkinson',\n",
              "       'parkinson', 'parkinson'], dtype='<U9')"
            ]
          },
          "metadata": {},
          "execution_count": 121
        }
      ]
    },
    {
      "cell_type": "code",
      "source": [
        "Xtest"
      ],
      "metadata": {
        "colab": {
          "base_uri": "https://localhost:8080/"
        },
        "id": "TR4vKn7ouJk3",
        "outputId": "402a596f-f5f1-477b-aced-15ef37a1b928"
      },
      "execution_count": null,
      "outputs": [
        {
          "output_type": "execute_result",
          "data": {
            "text/plain": [
              "array([[0., 0., 0., ..., 0., 0., 0.],\n",
              "       [0., 0., 0., ..., 0., 0., 0.],\n",
              "       [0., 0., 0., ..., 0., 0., 0.],\n",
              "       ...,\n",
              "       [0., 0., 0., ..., 0., 0., 0.],\n",
              "       [0., 0., 0., ..., 0., 0., 0.],\n",
              "       [0., 0., 0., ..., 0., 0., 0.]])"
            ]
          },
          "metadata": {},
          "execution_count": 122
        }
      ]
    },
    {
      "cell_type": "code",
      "source": [
        "Ytest"
      ],
      "metadata": {
        "colab": {
          "base_uri": "https://localhost:8080/"
        },
        "id": "CbTdP-89uMch",
        "outputId": "b136bbe2-324e-4f27-a4cb-974eac0fa9e2"
      },
      "execution_count": null,
      "outputs": [
        {
          "output_type": "execute_result",
          "data": {
            "text/plain": [
              "array(['healthy', 'healthy', 'healthy', 'healthy', 'healthy', 'healthy',\n",
              "       'healthy', 'healthy', 'healthy', 'healthy', 'healthy', 'healthy',\n",
              "       'healthy', 'healthy', 'healthy', 'healthy', 'healthy', 'healthy',\n",
              "       'healthy', 'healthy', 'healthy', 'healthy', 'healthy', 'healthy',\n",
              "       'healthy', 'healthy', 'healthy', 'healthy', 'healthy', 'healthy',\n",
              "       'parkinson', 'parkinson', 'parkinson', 'parkinson', 'parkinson',\n",
              "       'parkinson', 'parkinson', 'parkinson', 'parkinson', 'parkinson',\n",
              "       'parkinson', 'parkinson', 'parkinson', 'parkinson', 'parkinson',\n",
              "       'parkinson', 'parkinson', 'parkinson', 'parkinson', 'parkinson',\n",
              "       'parkinson', 'parkinson', 'parkinson', 'parkinson', 'parkinson',\n",
              "       'parkinson', 'parkinson', 'parkinson', 'parkinson', 'parkinson'],\n",
              "      dtype='<U9')"
            ]
          },
          "metadata": {},
          "execution_count": 123
        }
      ]
    },
    {
      "cell_type": "markdown",
      "source": [
        "##Label Encoding"
      ],
      "metadata": {
        "id": "ZsZun3wrwwSq"
      }
    },
    {
      "cell_type": "code",
      "source": [
        "label_encoder = LabelEncoder()\n",
        "Ytrain = label_encoder.fit_transform(Ytrain)\n",
        "Ytest = label_encoder.transform(Ytest)\n",
        "print(Xtrain.shape, Ytrain.shape)"
      ],
      "metadata": {
        "colab": {
          "base_uri": "https://localhost:8080/"
        },
        "id": "AfAFdBWLwwz-",
        "outputId": "4a4e425a-168a-4372-89f9-c2274acff232"
      },
      "execution_count": null,
      "outputs": [
        {
          "output_type": "stream",
          "name": "stdout",
          "text": [
            "(144, 12996) (144,)\n"
          ]
        }
      ]
    },
    {
      "cell_type": "code",
      "source": [
        "Ytrain"
      ],
      "metadata": {
        "colab": {
          "base_uri": "https://localhost:8080/"
        },
        "id": "w7VCUCV7uoQo",
        "outputId": "e0abfb5d-2622-4fb9-e77d-7a309befd6a0"
      },
      "execution_count": null,
      "outputs": [
        {
          "output_type": "execute_result",
          "data": {
            "text/plain": [
              "array([0, 0, 0, 0, 0, 0, 0, 0, 0, 0, 0, 0, 0, 0, 0, 0, 0, 0, 0, 0, 0, 0,\n",
              "       0, 0, 0, 0, 0, 0, 0, 0, 0, 0, 0, 0, 0, 0, 0, 0, 0, 0, 0, 0, 0, 0,\n",
              "       0, 0, 0, 0, 0, 0, 0, 0, 0, 0, 0, 0, 0, 0, 0, 0, 0, 0, 0, 0, 0, 0,\n",
              "       0, 0, 0, 0, 0, 0, 1, 1, 1, 1, 1, 1, 1, 1, 1, 1, 1, 1, 1, 1, 1, 1,\n",
              "       1, 1, 1, 1, 1, 1, 1, 1, 1, 1, 1, 1, 1, 1, 1, 1, 1, 1, 1, 1, 1, 1,\n",
              "       1, 1, 1, 1, 1, 1, 1, 1, 1, 1, 1, 1, 1, 1, 1, 1, 1, 1, 1, 1, 1, 1,\n",
              "       1, 1, 1, 1, 1, 1, 1, 1, 1, 1, 1, 1])"
            ]
          },
          "metadata": {},
          "execution_count": 125
        }
      ]
    },
    {
      "cell_type": "code",
      "source": [
        "Ytest"
      ],
      "metadata": {
        "colab": {
          "base_uri": "https://localhost:8080/"
        },
        "id": "QaQKGwaovAeg",
        "outputId": "48775682-ec63-4698-bf97-0c6e6180a915"
      },
      "execution_count": null,
      "outputs": [
        {
          "output_type": "execute_result",
          "data": {
            "text/plain": [
              "array([0, 0, 0, 0, 0, 0, 0, 0, 0, 0, 0, 0, 0, 0, 0, 0, 0, 0, 0, 0, 0, 0,\n",
              "       0, 0, 0, 0, 0, 0, 0, 0, 1, 1, 1, 1, 1, 1, 1, 1, 1, 1, 1, 1, 1, 1,\n",
              "       1, 1, 1, 1, 1, 1, 1, 1, 1, 1, 1, 1, 1, 1, 1, 1])"
            ]
          },
          "metadata": {},
          "execution_count": 126
        }
      ]
    }
  ]
}