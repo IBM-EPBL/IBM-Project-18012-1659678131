{
  "cells": [
    {
      "metadata": {
        "id": "HqlSD1n-0BM1",
        "outputId": "0a24137e-261f-4389-fa08-86ba2decf877"
      },
      "cell_type": "code",
      "source": [
        "pwd"
      ],
      "execution_count": null,
      "outputs": [
        {
          "output_type": "execute_result",
          "execution_count": 182,
          "data": {
            "text/plain": "'/home/wsuser/work'"
          },
          "metadata": {}
        }
      ]
    },
    {
      "metadata": {
        "id": "q8uLXOHJ0BNE",
        "outputId": "ded472d9-86f4-446d-83d6-34f9398b7490"
      },
      "cell_type": "code",
      "source": [
        "!pip install keras==2.2.4"
      ],
      "execution_count": null,
      "outputs": [
        {
          "output_type": "stream",
          "text": "Collecting keras==2.2.4\n  Using cached Keras-2.2.4-py2.py3-none-any.whl (312 kB)\nRequirement already satisfied: pyyaml in /opt/conda/envs/Python-3.9/lib/python3.9/site-packages (from keras==2.2.4) (5.4.1)\nRequirement already satisfied: h5py in /opt/conda/envs/Python-3.9/lib/python3.9/site-packages (from keras==2.2.4) (3.2.1)\nRequirement already satisfied: scipy>=0.14 in /opt/conda/envs/Python-3.9/lib/python3.9/site-packages (from keras==2.2.4) (1.7.3)\nRequirement already satisfied: six>=1.9.0 in /opt/conda/envs/Python-3.9/lib/python3.9/site-packages (from keras==2.2.4) (1.15.0)\nRequirement already satisfied: keras-applications>=1.0.6 in /opt/conda/envs/Python-3.9/lib/python3.9/site-packages (from keras==2.2.4) (1.0.8)\nRequirement already satisfied: numpy>=1.9.1 in /opt/conda/envs/Python-3.9/lib/python3.9/site-packages (from keras==2.2.4) (1.20.3)\nRequirement already satisfied: keras-preprocessing>=1.0.5 in /opt/conda/envs/Python-3.9/lib/python3.9/site-packages (from keras==2.2.4) (1.1.2)\nInstalling collected packages: keras\n  Attempting uninstall: keras\n    Found existing installation: keras 2.7.0\n    Uninstalling keras-2.7.0:\n      Successfully uninstalled keras-2.7.0\n\u001b[31mERROR: pip's dependency resolver does not currently take into account all the packages that are installed. This behaviour is the source of the following dependency conflicts.\ntensorflow 2.7.2 requires keras<2.8,>=2.7.0, but you have keras 2.2.4 which is incompatible.\u001b[0m\nSuccessfully installed keras-2.2.4\n",
          "name": "stdout"
        }
      ]
    },
    {
      "metadata": {
        "id": "eoY_nsao0BNI",
        "outputId": "6ab3e5b4-c69f-459f-8b72-95e517a72a0b"
      },
      "cell_type": "code",
      "source": [
        "!pip install tensorflow"
      ],
      "execution_count": null,
      "outputs": [
        {
          "output_type": "stream",
          "text": "Requirement already satisfied: tensorflow in /opt/conda/envs/Python-3.9/lib/python3.9/site-packages (2.7.2)\nRequirement already satisfied: tensorflow-io-gcs-filesystem>=0.21.0 in /opt/conda/envs/Python-3.9/lib/python3.9/site-packages (from tensorflow) (0.23.1)\nRequirement already satisfied: six>=1.12.0 in /opt/conda/envs/Python-3.9/lib/python3.9/site-packages (from tensorflow) (1.15.0)\nRequirement already satisfied: keras-preprocessing>=1.1.1 in /opt/conda/envs/Python-3.9/lib/python3.9/site-packages (from tensorflow) (1.1.2)\nRequirement already satisfied: google-pasta>=0.1.1 in /opt/conda/envs/Python-3.9/lib/python3.9/site-packages (from tensorflow) (0.2.0)\nRequirement already satisfied: tensorflow-estimator<2.8,~=2.7.0 in /opt/conda/envs/Python-3.9/lib/python3.9/site-packages (from tensorflow) (2.7.0)\nRequirement already satisfied: astunparse>=1.6.0 in /opt/conda/envs/Python-3.9/lib/python3.9/site-packages (from tensorflow) (1.6.3)\nRequirement already satisfied: tensorboard~=2.7 in /opt/conda/envs/Python-3.9/lib/python3.9/site-packages (from tensorflow) (2.7.0)\nCollecting keras<2.8,>=2.7.0\n  Using cached keras-2.7.0-py2.py3-none-any.whl (1.3 MB)\nRequirement already satisfied: gast<0.5.0,>=0.2.1 in /opt/conda/envs/Python-3.9/lib/python3.9/site-packages (from tensorflow) (0.4.0)\nRequirement already satisfied: flatbuffers<3.0,>=1.12 in /opt/conda/envs/Python-3.9/lib/python3.9/site-packages (from tensorflow) (2.0)\nRequirement already satisfied: numpy>=1.14.5 in /opt/conda/envs/Python-3.9/lib/python3.9/site-packages (from tensorflow) (1.20.3)\nRequirement already satisfied: wheel<1.0,>=0.32.0 in /opt/conda/envs/Python-3.9/lib/python3.9/site-packages (from tensorflow) (0.37.0)\nRequirement already satisfied: wrapt>=1.11.0 in /opt/conda/envs/Python-3.9/lib/python3.9/site-packages (from tensorflow) (1.12.1)\nRequirement already satisfied: absl-py>=0.4.0 in /opt/conda/envs/Python-3.9/lib/python3.9/site-packages (from tensorflow) (0.12.0)\nRequirement already satisfied: opt-einsum>=2.3.2 in /opt/conda/envs/Python-3.9/lib/python3.9/site-packages (from tensorflow) (3.3.0)\nRequirement already satisfied: h5py>=2.9.0 in /opt/conda/envs/Python-3.9/lib/python3.9/site-packages (from tensorflow) (3.2.1)\nRequirement already satisfied: protobuf>=3.9.2 in /opt/conda/envs/Python-3.9/lib/python3.9/site-packages (from tensorflow) (3.19.1)\nRequirement already satisfied: termcolor>=1.1.0 in /opt/conda/envs/Python-3.9/lib/python3.9/site-packages (from tensorflow) (1.1.0)\nRequirement already satisfied: grpcio<2.0,>=1.24.3 in /opt/conda/envs/Python-3.9/lib/python3.9/site-packages (from tensorflow) (1.42.0)\nRequirement already satisfied: typing-extensions>=3.6.6 in /opt/conda/envs/Python-3.9/lib/python3.9/site-packages (from tensorflow) (4.1.1)\nRequirement already satisfied: google-auth-oauthlib<0.5,>=0.4.1 in /opt/conda/envs/Python-3.9/lib/python3.9/site-packages (from tensorboard~=2.7->tensorflow) (0.4.4)\nRequirement already satisfied: markdown>=2.6.8 in /opt/conda/envs/Python-3.9/lib/python3.9/site-packages (from tensorboard~=2.7->tensorflow) (3.3.3)\nRequirement already satisfied: requests<3,>=2.21.0 in /opt/conda/envs/Python-3.9/lib/python3.9/site-packages (from tensorboard~=2.7->tensorflow) (2.26.0)\nRequirement already satisfied: tensorboard-data-server<0.7.0,>=0.6.0 in /opt/conda/envs/Python-3.9/lib/python3.9/site-packages (from tensorboard~=2.7->tensorflow) (0.6.1)\nRequirement already satisfied: setuptools>=41.0.0 in /opt/conda/envs/Python-3.9/lib/python3.9/site-packages (from tensorboard~=2.7->tensorflow) (58.0.4)\nRequirement already satisfied: google-auth<3,>=1.6.3 in /opt/conda/envs/Python-3.9/lib/python3.9/site-packages (from tensorboard~=2.7->tensorflow) (1.23.0)\nRequirement already satisfied: tensorboard-plugin-wit>=1.6.0 in /opt/conda/envs/Python-3.9/lib/python3.9/site-packages (from tensorboard~=2.7->tensorflow) (1.6.0)\nRequirement already satisfied: werkzeug>=0.11.15 in /opt/conda/envs/Python-3.9/lib/python3.9/site-packages (from tensorboard~=2.7->tensorflow) (2.0.2)\nRequirement already satisfied: rsa<5,>=3.1.4 in /opt/conda/envs/Python-3.9/lib/python3.9/site-packages (from google-auth<3,>=1.6.3->tensorboard~=2.7->tensorflow) (4.7.2)\nRequirement already satisfied: pyasn1-modules>=0.2.1 in /opt/conda/envs/Python-3.9/lib/python3.9/site-packages (from google-auth<3,>=1.6.3->tensorboard~=2.7->tensorflow) (0.2.8)\nRequirement already satisfied: cachetools<5.0,>=2.0.0 in /opt/conda/envs/Python-3.9/lib/python3.9/site-packages (from google-auth<3,>=1.6.3->tensorboard~=2.7->tensorflow) (4.2.2)\nRequirement already satisfied: requests-oauthlib>=0.7.0 in /opt/conda/envs/Python-3.9/lib/python3.9/site-packages (from google-auth-oauthlib<0.5,>=0.4.1->tensorboard~=2.7->tensorflow) (1.3.0)\nRequirement already satisfied: pyasn1<0.5.0,>=0.4.6 in /opt/conda/envs/Python-3.9/lib/python3.9/site-packages (from pyasn1-modules>=0.2.1->google-auth<3,>=1.6.3->tensorboard~=2.7->tensorflow) (0.4.8)\nRequirement already satisfied: charset-normalizer~=2.0.0 in /opt/conda/envs/Python-3.9/lib/python3.9/site-packages (from requests<3,>=2.21.0->tensorboard~=2.7->tensorflow) (2.0.4)\nRequirement already satisfied: idna<4,>=2.5 in /opt/conda/envs/Python-3.9/lib/python3.9/site-packages (from requests<3,>=2.21.0->tensorboard~=2.7->tensorflow) (3.3)\nRequirement already satisfied: urllib3<1.27,>=1.21.1 in /opt/conda/envs/Python-3.9/lib/python3.9/site-packages (from requests<3,>=2.21.0->tensorboard~=2.7->tensorflow) (1.26.7)\nRequirement already satisfied: certifi>=2017.4.17 in /opt/conda/envs/Python-3.9/lib/python3.9/site-packages (from requests<3,>=2.21.0->tensorboard~=2.7->tensorflow) (2022.9.24)\nRequirement already satisfied: oauthlib>=3.0.0 in /opt/conda/envs/Python-3.9/lib/python3.9/site-packages (from requests-oauthlib>=0.7.0->google-auth-oauthlib<0.5,>=0.4.1->tensorboard~=2.7->tensorflow) (3.2.1)\nInstalling collected packages: keras\n  Attempting uninstall: keras\n    Found existing installation: Keras 2.2.4\n    Uninstalling Keras-2.2.4:\n      Successfully uninstalled Keras-2.2.4\nSuccessfully installed keras-2.7.0\n",
          "name": "stdout"
        }
      ]
    },
    {
      "metadata": {
        "id": "VTbryVlq0BNL"
      },
      "cell_type": "code",
      "source": [
        "from keras.models import Sequential # api, se,\n",
        "from keras.layers import Dense # add Layers\n",
        "from keras.layers import Convolution2D # con\n",
        "from keras.layers import MaxPooling2D#\n",
        "from keras.layers import Flatten"
      ],
      "execution_count": null,
      "outputs": []
    },
    {
      "metadata": {
        "id": "vtpzAYF60BNN"
      },
      "cell_type": "code",
      "source": [
        "from keras.preprocessing.image import ImageDataGenerator\n",
        "train_datagen = ImageDataGenerator(rescale = 1./255,shear_range = 0.2,zoom_range= 0.2,horizontal_flip = True)\n",
        "test_datagen = ImageDataGenerator (rescale = 1./255)"
      ],
      "execution_count": null,
      "outputs": []
    },
    {
      "metadata": {
        "id": "ruzEarHh0BNP"
      },
      "cell_type": "code",
      "source": [
        "\n",
        "import os, types\n",
        "import pandas as pd\n",
        "from botocore.client import Config\n",
        "import ibm_boto3\n",
        "\n",
        "def __iter__(self): return 0\n",
        "\n",
        "# @hidden_cell\n",
        "# The following code accesses a file in your IBM Cloud Object Storage. It includes your credentials.\n",
        "# You might want to remove those credentials before you share the notebook.\n",
        "cos_client = ibm_boto3.client(service_name='s3',\n",
        "    ibm_api_key_id='0sBA5-eNOECDz_2B_idSZgOSa6xD-KFjEsnplQeNqE32',\n",
        "    ibm_auth_endpoint=\"https://iam.cloud.ibm.com/oidc/token\",\n",
        "    config=Config(signature_version='oauth'),\n",
        "    endpoint_url='https://s3.private.us.cloud-object-storage.appdomain.cloud')\n",
        "\n",
        "bucket = 'detectingparkinsonsdiseaseusingma-donotdelete-pr-npbsjba7teyq9v'\n",
        "object_key = 'drawings.zip'\n",
        "\n",
        "streaming_body_3 = cos_client.get_object(Bucket=bucket, Key=object_key)['Body']\n",
        "\n",
        "# Your data file was loaded into a botocore.response.StreamingBody object.\n",
        "# Please read the documentation of ibm_boto3 and pandas to learn more about the possibilities to load the data.\n",
        "# ibm_boto3 documentation: https://ibm.github.io/ibm-cos-sdk-python/\n",
        "# pandas documentation: http://pandas.pydata.org/\n"
      ],
      "execution_count": null,
      "outputs": []
    },
    {
      "metadata": {
        "id": "rPLeU6Ul0BNS"
      },
      "cell_type": "code",
      "source": [
        "from io import BytesIO\n",
        "import zipfile\n",
        "unzip = zipfile.ZipFile(BytesIO(streaming_body_3.read()), 'r')\n",
        "file_paths = unzip.namelist()\n",
        "for path in file_paths:\n",
        "    unzip.extract(path)"
      ],
      "execution_count": null,
      "outputs": []
    },
    {
      "metadata": {
        "id": "_8yGjLmJ0BNU",
        "outputId": "97b6e0d3-06bd-4cce-ed65-773ce7debfda"
      },
      "cell_type": "code",
      "source": [
        "pwd"
      ],
      "execution_count": null,
      "outputs": [
        {
          "output_type": "execute_result",
          "execution_count": 189,
          "data": {
            "text/plain": "'/home/wsuser/work'"
          },
          "metadata": {}
        }
      ]
    },
    {
      "metadata": {
        "id": "F_zQDdtr0BNX"
      },
      "cell_type": "code",
      "source": [
        "import os\n",
        "filename = os.listdir('/home/wsuser/work/spiral_wave/training')"
      ],
      "execution_count": null,
      "outputs": []
    },
    {
      "metadata": {
        "id": "UVY3n79u0BNZ",
        "outputId": "0cd6b6a6-24d7-423a-fce1-4f920770d7d3"
      },
      "cell_type": "code",
      "source": [
        "x_train = train_datagen.flow_from_directory(\"/home/wsuser/work/spiral_wave/training/\",target_size = (64,64),batch_size = 32,class_mode = \"categorical\")\n",
        "x_test = test_datagen.flow_from_directory(\"/home/wsuser/work/spiral_wave/training/\",target_size = (64,64),batch_size = 32,class_mode = \"categorical\")"
      ],
      "execution_count": null,
      "outputs": [
        {
          "output_type": "stream",
          "text": "Found 143 images belonging to 2 classes.\nFound 143 images belonging to 2 classes.\n",
          "name": "stdout"
        }
      ]
    },
    {
      "metadata": {
        "id": "O1Wdo7pP0BNb",
        "outputId": "2fcb02c1-84ff-424b-c4de-3e4fe7dc32be"
      },
      "cell_type": "code",
      "source": [
        "x_train.class_indices"
      ],
      "execution_count": null,
      "outputs": [
        {
          "output_type": "execute_result",
          "execution_count": 192,
          "data": {
            "text/plain": "{'healthy': 0, 'parkinson': 1}"
          },
          "metadata": {}
        }
      ]
    },
    {
      "metadata": {
        "id": "2tMRnOJH0BNd"
      },
      "cell_type": "code",
      "source": [
        "model = Sequential()"
      ],
      "execution_count": null,
      "outputs": []
    },
    {
      "metadata": {
        "id": "RkO5Tg7c0BNe"
      },
      "cell_type": "code",
      "source": [
        "model.add(Convolution2D(32,(3,3),input_shape = (64,64,3), activation = \"relu\"))"
      ],
      "execution_count": null,
      "outputs": []
    },
    {
      "metadata": {
        "id": "FtRHZqkP0BNf"
      },
      "cell_type": "code",
      "source": [
        "model.add(MaxPooling2D(pool_size = (2,2)))"
      ],
      "execution_count": null,
      "outputs": []
    },
    {
      "metadata": {
        "id": "HvWpSnU-0BNg"
      },
      "cell_type": "code",
      "source": [
        "model.add(Flatten())"
      ],
      "execution_count": null,
      "outputs": []
    },
    {
      "metadata": {
        "id": "u8pXU8d80BNh"
      },
      "cell_type": "code",
      "source": [
        "model.add(Dense(units = 128, activation = \"relu\"))"
      ],
      "execution_count": null,
      "outputs": []
    },
    {
      "metadata": {
        "id": "RWhZVi4x0BNi"
      },
      "cell_type": "code",
      "source": [
        "model.add(Dense(units = 2, activation = \"softmax\"))"
      ],
      "execution_count": null,
      "outputs": []
    },
    {
      "metadata": {
        "id": "8Cosa0o00BNi"
      },
      "cell_type": "code",
      "source": [
        "model.compile(optimizer = \"adam\",loss = \"categorical_crossentropy\",metrics = [\"accuracy\"])"
      ],
      "execution_count": null,
      "outputs": []
    },
    {
      "metadata": {
        "id": "YNDsPG1T0BNj",
        "outputId": "a7a6bd45-ea76-4f43-b902-84cd9377c290"
      },
      "cell_type": "code",
      "source": [
        "model.fit(x_train,validation_data=x_test,epochs=5,batch_size=32)"
      ],
      "execution_count": null,
      "outputs": [
        {
          "output_type": "stream",
          "text": "Epoch 1/5\n5/5 [==============================] - 2s 265ms/step - loss: 4.7947 - accuracy: 0.4476 - val_loss: 2.5271 - val_accuracy: 0.4965\nEpoch 2/5\n5/5 [==============================] - 1s 210ms/step - loss: 1.6676 - accuracy: 0.4965 - val_loss: 0.6927 - val_accuracy: 0.5105\nEpoch 3/5\n5/5 [==============================] - 1s 250ms/step - loss: 0.7877 - accuracy: 0.5035 - val_loss: 0.7417 - val_accuracy: 0.5035\nEpoch 4/5\n5/5 [==============================] - 1s 214ms/step - loss: 0.7168 - accuracy: 0.5035 - val_loss: 0.6949 - val_accuracy: 0.5035\nEpoch 5/5\n5/5 [==============================] - 1s 212ms/step - loss: 0.6950 - accuracy: 0.5035 - val_loss: 0.6931 - val_accuracy: 0.5035\n",
          "name": "stdout"
        },
        {
          "output_type": "execute_result",
          "execution_count": 200,
          "data": {
            "text/plain": "<keras.callbacks.History at 0x7f8eddf57760>"
          },
          "metadata": {}
        }
      ]
    },
    {
      "metadata": {
        "id": "NDRRYSbJ0BNk"
      },
      "cell_type": "code",
      "source": [
        "model.save(\"parkinson.h5\")"
      ],
      "execution_count": null,
      "outputs": []
    },
    {
      "metadata": {
        "id": "r8kK-fSu0BNl",
        "outputId": "3c29cc3e-517a-4876-928d-3353911e8ebd"
      },
      "cell_type": "code",
      "source": [
        "!tar -zcvf image-classification-model_new.tgz parkinson.h5"
      ],
      "execution_count": null,
      "outputs": [
        {
          "output_type": "stream",
          "text": "parkinson.h5\r\n",
          "name": "stdout"
        }
      ]
    },
    {
      "metadata": {
        "id": "E6SbDfdz0BNm",
        "outputId": "1b4c2427-9a5f-4f0d-f876-81a6d374f717"
      },
      "cell_type": "code",
      "source": [
        "ls -1"
      ],
      "execution_count": null,
      "outputs": [
        {
          "output_type": "stream",
          "text": "image-classification-model_new.tgz\r\nmy__model.tar.gz\r\nmy_model.tar.gz\r\nparkinson.h5\r\nparkinson.pkl\r\n\u001b[0m\u001b[01;34mspiral_wave\u001b[0m/\r\n",
          "name": "stdout"
        }
      ]
    },
    {
      "metadata": {
        "id": "bjitVMek0BNn",
        "outputId": "7d513332-be2b-4a4f-afcb-fb47ff853bbc"
      },
      "cell_type": "code",
      "source": [
        "!pip install watson-machine-learning-client --upgrade"
      ],
      "execution_count": null,
      "outputs": [
        {
          "output_type": "stream",
          "text": "Requirement already satisfied: watson-machine-learning-client in /opt/conda/envs/Python-3.9/lib/python3.9/site-packages (1.0.391)\nRequirement already satisfied: boto3 in /opt/conda/envs/Python-3.9/lib/python3.9/site-packages (from watson-machine-learning-client) (1.18.21)\nRequirement already satisfied: tabulate in /opt/conda/envs/Python-3.9/lib/python3.9/site-packages (from watson-machine-learning-client) (0.8.9)\nRequirement already satisfied: urllib3 in /opt/conda/envs/Python-3.9/lib/python3.9/site-packages (from watson-machine-learning-client) (1.26.7)\nRequirement already satisfied: certifi in /opt/conda/envs/Python-3.9/lib/python3.9/site-packages (from watson-machine-learning-client) (2022.9.24)\nRequirement already satisfied: lomond in /opt/conda/envs/Python-3.9/lib/python3.9/site-packages (from watson-machine-learning-client) (0.3.3)\nRequirement already satisfied: pandas in /opt/conda/envs/Python-3.9/lib/python3.9/site-packages (from watson-machine-learning-client) (1.3.4)\nRequirement already satisfied: requests in /opt/conda/envs/Python-3.9/lib/python3.9/site-packages (from watson-machine-learning-client) (2.26.0)\nRequirement already satisfied: ibm-cos-sdk in /opt/conda/envs/Python-3.9/lib/python3.9/site-packages (from watson-machine-learning-client) (2.11.0)\nRequirement already satisfied: tqdm in /opt/conda/envs/Python-3.9/lib/python3.9/site-packages (from watson-machine-learning-client) (4.62.3)\nRequirement already satisfied: s3transfer<0.6.0,>=0.5.0 in /opt/conda/envs/Python-3.9/lib/python3.9/site-packages (from boto3->watson-machine-learning-client) (0.5.0)\nRequirement already satisfied: botocore<1.22.0,>=1.21.21 in /opt/conda/envs/Python-3.9/lib/python3.9/site-packages (from boto3->watson-machine-learning-client) (1.21.41)\nRequirement already satisfied: jmespath<1.0.0,>=0.7.1 in /opt/conda/envs/Python-3.9/lib/python3.9/site-packages (from boto3->watson-machine-learning-client) (0.10.0)\nRequirement already satisfied: python-dateutil<3.0.0,>=2.1 in /opt/conda/envs/Python-3.9/lib/python3.9/site-packages (from botocore<1.22.0,>=1.21.21->boto3->watson-machine-learning-client) (2.8.2)\nRequirement already satisfied: six>=1.5 in /opt/conda/envs/Python-3.9/lib/python3.9/site-packages (from python-dateutil<3.0.0,>=2.1->botocore<1.22.0,>=1.21.21->boto3->watson-machine-learning-client) (1.15.0)\nRequirement already satisfied: ibm-cos-sdk-core==2.11.0 in /opt/conda/envs/Python-3.9/lib/python3.9/site-packages (from ibm-cos-sdk->watson-machine-learning-client) (2.11.0)\nRequirement already satisfied: ibm-cos-sdk-s3transfer==2.11.0 in /opt/conda/envs/Python-3.9/lib/python3.9/site-packages (from ibm-cos-sdk->watson-machine-learning-client) (2.11.0)\nRequirement already satisfied: charset-normalizer~=2.0.0 in /opt/conda/envs/Python-3.9/lib/python3.9/site-packages (from requests->watson-machine-learning-client) (2.0.4)\nRequirement already satisfied: idna<4,>=2.5 in /opt/conda/envs/Python-3.9/lib/python3.9/site-packages (from requests->watson-machine-learning-client) (3.3)\nRequirement already satisfied: pytz>=2017.3 in /opt/conda/envs/Python-3.9/lib/python3.9/site-packages (from pandas->watson-machine-learning-client) (2021.3)\nRequirement already satisfied: numpy>=1.17.3 in /opt/conda/envs/Python-3.9/lib/python3.9/site-packages (from pandas->watson-machine-learning-client) (1.20.3)\n",
          "name": "stdout"
        }
      ]
    },
    {
      "metadata": {
        "id": "Z7vG3x7F0BNp"
      },
      "cell_type": "code",
      "source": [
        "#Replace the credentials that you got from watson Machine Learning Service\n",
        "from ibm_watson_machine_learning import APIClient\n",
        "wml_credentials = {\n",
        "                    \"url\": \"https://us-south.ml.cloud.ibm.com\",\n",
        "                    \"apikey\": \"8QLMqsHMjuR6Z0k647bSq0cesTXqS0PX83hcb60OdJhP\"\n",
        "                  }\n",
        "client = APIClient(wml_credentials)"
      ],
      "execution_count": null,
      "outputs": []
    },
    {
      "metadata": {
        "id": "ks1MzcJp0BNq"
      },
      "cell_type": "code",
      "source": [
        "client = APIClient(wml_credentials)"
      ],
      "execution_count": null,
      "outputs": []
    },
    {
      "metadata": {
        "id": "6V01gmqq0BNr"
      },
      "cell_type": "code",
      "source": [
        "def guid_from_space_name(client, space_name):\n",
        "    space = client.spaces.get_details()\n",
        "    #print(space)\n",
        "    return(next(item for item in space['resources'] if item['entity'][\"name\"] == space_name)['metadata']['id'])"
      ],
      "execution_count": null,
      "outputs": []
    },
    {
      "metadata": {
        "id": "CVmLdnFd0BNs",
        "outputId": "73956069-befb-4688-bfb3-24136bdb6fbf"
      },
      "cell_type": "code",
      "source": [
        "space_uid = guid_from_space_name(client, 'Detecting Parkinson Disease Using Machine Learning')\n",
        "print(\"Space UID = \" + space_uid)"
      ],
      "execution_count": null,
      "outputs": [
        {
          "output_type": "stream",
          "text": "Space UID = edb8e45d-9b5f-4ee6-b9e6-9cf791c31343\n",
          "name": "stdout"
        }
      ]
    },
    {
      "metadata": {
        "id": "tGBlvMVM0BNu",
        "outputId": "5fa6e77c-a392-496d-d3fa-37c714551512"
      },
      "cell_type": "code",
      "source": [
        "client.set.default_space(space_uid)"
      ],
      "execution_count": null,
      "outputs": [
        {
          "output_type": "execute_result",
          "execution_count": 209,
          "data": {
            "text/plain": "'SUCCESS'"
          },
          "metadata": {}
        }
      ]
    },
    {
      "metadata": {
        "id": "M1IJAGRq0BNv",
        "outputId": "335370f9-fe5c-4594-8c35-fdbef3fe9b27"
      },
      "cell_type": "code",
      "source": [
        "client.software_specifications.list()"
      ],
      "execution_count": null,
      "outputs": [
        {
          "output_type": "stream",
          "text": "-----------------------------  ------------------------------------  ----\nNAME                           ASSET_ID                              TYPE\ndefault_py3.6                  0062b8c9-8b7d-44a0-a9b9-46c416adcbd9  base\nkernel-spark3.2-scala2.12      020d69ce-7ac1-5e68-ac1a-31189867356a  base\npytorch-onnx_1.3-py3.7-edt     069ea134-3346-5748-b513-49120e15d288  base\nscikit-learn_0.20-py3.6        09c5a1d0-9c1e-4473-a344-eb7b665ff687  base\nspark-mllib_3.0-scala_2.12     09f4cff0-90a7-5899-b9ed-1ef348aebdee  base\npytorch-onnx_rt22.1-py3.9      0b848dd4-e681-5599-be41-b5f6fccc6471  base\nai-function_0.1-py3.6          0cdb0f1e-5376-4f4d-92dd-da3b69aa9bda  base\nshiny-r3.6                     0e6e79df-875e-4f24-8ae9-62dcc2148306  base\ntensorflow_2.4-py3.7-horovod   1092590a-307d-563d-9b62-4eb7d64b3f22  base\npytorch_1.1-py3.6              10ac12d6-6b30-4ccd-8392-3e922c096a92  base\ntensorflow_1.15-py3.6-ddl      111e41b3-de2d-5422-a4d6-bf776828c4b7  base\nautoai-kb_rt22.2-py3.10        125b6d9a-5b1f-5e8d-972a-b251688ccf40  base\nruntime-22.1-py3.9             12b83a17-24d8-5082-900f-0ab31fbfd3cb  base\nscikit-learn_0.22-py3.6        154010fa-5b3b-4ac1-82af-4d5ee5abbc85  base\ndefault_r3.6                   1b70aec3-ab34-4b87-8aa0-a4a3c8296a36  base\npytorch-onnx_1.3-py3.6         1bc6029a-cc97-56da-b8e0-39c3880dbbe7  base\nkernel-spark3.3-r3.6           1c9e5454-f216-59dd-a20e-474a5cdf5988  base\npytorch-onnx_rt22.1-py3.9-edt  1d362186-7ad5-5b59-8b6c-9d0880bde37f  base\ntensorflow_2.1-py3.6           1eb25b84-d6ed-5dde-b6a5-3fbdf1665666  base\nspark-mllib_3.2                20047f72-0a98-58c7-9ff5-a77b012eb8f5  base\ntensorflow_2.4-py3.8-horovod   217c16f6-178f-56bf-824a-b19f20564c49  base\nruntime-22.1-py3.9-cuda        26215f05-08c3-5a41-a1b0-da66306ce658  base\ndo_py3.8                       295addb5-9ef9-547e-9bf4-92ae3563e720  base\nautoai-ts_3.8-py3.8            2aa0c932-798f-5ae9-abd6-15e0c2402fb5  base\ntensorflow_1.15-py3.6          2b73a275-7cbf-420b-a912-eae7f436e0bc  base\nkernel-spark3.3-py3.9          2b7961e2-e3b1-5a8c-a491-482c8368839a  base\npytorch_1.2-py3.6              2c8ef57d-2687-4b7d-acce-01f94976dac1  base\nspark-mllib_2.3                2e51f700-bca0-4b0d-88dc-5c6791338875  base\npytorch-onnx_1.1-py3.6-edt     32983cea-3f32-4400-8965-dde874a8d67e  base\nspark-mllib_3.0-py37           36507ebe-8770-55ba-ab2a-eafe787600e9  base\nspark-mllib_2.4                390d21f8-e58b-4fac-9c55-d7ceda621326  base\nautoai-ts_rt22.2-py3.10        396b2e83-0953-5b86-9a55-7ce1628a406f  base\nxgboost_0.82-py3.6             39e31acd-5f30-41dc-ae44-60233c80306e  base\npytorch-onnx_1.2-py3.6-edt     40589d0e-7019-4e28-8daa-fb03b6f4fe12  base\npytorch-onnx_rt22.2-py3.10     40e73f55-783a-5535-b3fa-0c8b94291431  base\ndefault_r36py38                41c247d3-45f8-5a71-b065-8580229facf0  base\nautoai-ts_rt22.1-py3.9         4269d26e-07ba-5d40-8f66-2d495b0c71f7  base\nautoai-obm_3.0                 42b92e18-d9ab-567f-988a-4240ba1ed5f7  base\npmml-3.0_4.3                   493bcb95-16f1-5bc5-bee8-81b8af80e9c7  base\nspark-mllib_2.4-r_3.6          49403dff-92e9-4c87-a3d7-a42d0021c095  base\nxgboost_0.90-py3.6             4ff8d6c2-1343-4c18-85e1-689c965304d3  base\npytorch-onnx_1.1-py3.6         50f95b2a-bc16-43bb-bc94-b0bed208c60b  base\nautoai-ts_3.9-py3.8            52c57136-80fa-572e-8728-a5e7cbb42cde  base\nspark-mllib_2.4-scala_2.11     55a70f99-7320-4be5-9fb9-9edb5a443af5  base\nspark-mllib_3.0                5c1b0ca2-4977-5c2e-9439-ffd44ea8ffe9  base\nautoai-obm_2.0                 5c2e37fa-80b8-5e77-840f-d912469614ee  base\nspss-modeler_18.1              5c3cad7e-507f-4b2a-a9a3-ab53a21dee8b  base\ncuda-py3.8                     5d3232bf-c86b-5df4-a2cd-7bb870a1cd4e  base\nruntime-22.2-py3.10-xc         5e8cddff-db4a-5a6a-b8aa-2d4af9864dab  base\nautoai-kb_3.1-py3.7            632d4b22-10aa-5180-88f0-f52dfb6444d7  base\n-----------------------------  ------------------------------------  ----\nNote: Only first 50 records were displayed. To display more use 'limit' parameter.\n",
          "name": "stdout"
        }
      ]
    },
    {
      "metadata": {
        "id": "fEz_vkIg0BNv",
        "outputId": "e73fbbc4-4b64-42fd-af77-5643e6cd58b3"
      },
      "cell_type": "code",
      "source": [
        "software_spec_uid = client.software_specifications.get_uid_by_name(\"runtime-22.1-py3.9\")\n",
        "software_spec_uid"
      ],
      "execution_count": null,
      "outputs": [
        {
          "output_type": "execute_result",
          "execution_count": 211,
          "data": {
            "text/plain": "'12b83a17-24d8-5082-900f-0ab31fbfd3cb'"
          },
          "metadata": {}
        }
      ]
    },
    {
      "metadata": {
        "id": "yGM5UON40BNw",
        "outputId": "9ef05263-6ebc-4313-f755-71d8ae62ee61"
      },
      "cell_type": "code",
      "source": [
        " model_details = client.repository.store_model(model='image-classification-model_new.tgz',meta_props={ \n",
        "     client.repository.ModelMetaNames.NAME: \"CNN\",\n",
        "     client.repository.ModelMetaNames.TYPE: \"scikit-learn_1.0\",\n",
        "     client.repository.ModelMetaNames.SOFTWARE_SPEC_UID:software_spec_uid}\n",
        "                                              )\n",
        "model_id = client.repository.get_model_uid(model_details)"
      ],
      "execution_count": null,
      "outputs": [
        {
          "output_type": "stream",
          "text": "This method is deprecated, please use get_model_id()\n",
          "name": "stdout"
        },
        {
          "output_type": "stream",
          "text": "/opt/conda/envs/Python-3.9/lib/python3.9/site-packages/ibm_watson_machine_learning/repository.py:1453: UserWarning: This method is deprecated, please use get_model_id()\n  warn(\"This method is deprecated, please use get_model_id()\")\n",
          "name": "stderr"
        }
      ]
    },
    {
      "metadata": {
        "id": "IQ-RrX9M0BNx",
        "outputId": "98e64474-39f1-4f30-9b33-b1c5db98c537"
      },
      "cell_type": "code",
      "source": [
        "model_id"
      ],
      "execution_count": null,
      "outputs": [
        {
          "output_type": "execute_result",
          "execution_count": 213,
          "data": {
            "text/plain": "'97fa0983-99d1-45ae-ac33-a10b867faebd'"
          },
          "metadata": {}
        }
      ]
    },
    {
      "metadata": {
        "id": "UbCWK83x0BNy",
        "outputId": "4fffdaa2-a28e-4e26-b7f9-9604d6fe8419"
      },
      "cell_type": "code",
      "source": [
        "client.repository.download(model_id, 'my.model.tar.gz')"
      ],
      "execution_count": null,
      "outputs": [
        {
          "output_type": "stream",
          "text": "Successfully saved model content to file: 'my.model.tar.gz'\n",
          "name": "stdout"
        },
        {
          "output_type": "execute_result",
          "execution_count": 215,
          "data": {
            "text/plain": "'/home/wsuser/work/my.model.tar.gz'"
          },
          "metadata": {}
        }
      ]
    },
    {
      "metadata": {
        "id": "sr1-fTO2mYvm"
      },
      "cell_type": "markdown",
      "source": [
        "#Image Pre-processing\n",
        "Importing the necessary libraries"
      ]
    },
    {
      "metadata": {
        "id": "NdG3uCPK0BN4",
        "outputId": "79c23b8c-b140-4c2e-946f-a904334a7b03"
      },
      "cell_type": "code",
      "source": [
        "!pip install imutils"
      ],
      "execution_count": null,
      "outputs": [
        {
          "output_type": "stream",
          "text": "Requirement already satisfied: imutils in /opt/conda/envs/Python-3.9/lib/python3.9/site-packages (0.5.4)\r\n",
          "name": "stdout"
        }
      ]
    },
    {
      "metadata": {
        "id": "Kllof9XTmctq"
      },
      "cell_type": "code",
      "source": [
        "import cv2\n",
        "import numpy as np\n",
        "import seaborn as sns\n",
        "from matplotlib import pyplot as plt\n",
        "from sklearn.preprocessing import LabelEncoder\n",
        "from sklearn.ensemble import RandomForestClassifier\n",
        "from sklearn.metrics import confusion_matrix, accuracy_score, classification_report\n",
        "from skimage import feature\n",
        "from imutils import paths\n",
        "import os\n",
        "import pickle"
      ],
      "execution_count": null,
      "outputs": []
    },
    {
      "metadata": {
        "id": "eiQKlCHlmiop"
      },
      "cell_type": "markdown",
      "source": [
        "##Functions to load and quantify the images"
      ]
    },
    {
      "metadata": {
        "id": "7j6pO69Hmmrz"
      },
      "cell_type": "code",
      "source": [
        "def quantify_image(image):\n",
        "    features = feature.hog(image, \n",
        "                           orientations=9, \n",
        "                           pixels_per_cell=(10,10), \n",
        "                           cells_per_block=(2,2), \n",
        "                           transform_sqrt=True, \n",
        "                           block_norm=\"L1\")\n",
        "    return features"
      ],
      "execution_count": null,
      "outputs": []
    },
    {
      "metadata": {
        "id": "6cR_SJucmvCh"
      },
      "cell_type": "code",
      "source": [
        "def load_split(path):\n",
        "    path_images = list(paths.list_images(path))\n",
        "    data=[]\n",
        "    labels=[]\n",
        "\n",
        "    for path_image in path_images:\n",
        "        label = path_image.split(os.path.sep)[-2]\n",
        "        image = cv2.imread(path_image)\n",
        "        image = cv2.cvtColor(image,cv2.COLOR_BGR2GRAY)\n",
        "        image = cv2.resize(image, (200,200))\n",
        "        image = cv2.threshold(image,0,225,cv2.THRESH_BINARY_INV | cv2.THRESH_OTSU)[1]\n",
        "\n",
        "        features = quantify_image(image)\n",
        "        data.append(features)\n",
        "        labels.append(label)\n",
        "\n",
        "    return (np.array(data), np.array(labels))"
      ],
      "execution_count": null,
      "outputs": []
    },
    {
      "metadata": {
        "id": "J-dIbGzKm-23"
      },
      "cell_type": "markdown",
      "source": [
        "#Using spiral & Wave images\n",
        "##Defining the path for training data and testing data"
      ]
    },
    {
      "metadata": {
        "id": "Op4hpljco2ia"
      },
      "cell_type": "code",
      "source": [
        "path_training_data = r\"/home/wsuser/work/spiral_wave/training\"\n",
        "path_testing_data = r\"/home/wsuser/work/spiral_wave/testing\""
      ],
      "execution_count": null,
      "outputs": []
    },
    {
      "metadata": {
        "id": "OdT2xUmt0BOB"
      },
      "cell_type": "code",
      "source": [
        "(x_train, y_train) = load_split(path_training_data)\n",
        "(x_test, y_test) = load_split(path_testing_data)"
      ],
      "execution_count": null,
      "outputs": []
    },
    {
      "metadata": {
        "colab": {
          "base_uri": "https://localhost:8080/"
        },
        "id": "1gjyPmASpQIH",
        "outputId": "5463cf86-f0de-45cd-b663-99612d80610e"
      },
      "cell_type": "code",
      "source": [
        "x_train = np.array(x_train)\n",
        "x_test = np.array(x_test)\n",
        "y_train = np.array(y_train)\n",
        "y_test = np.array(y_test)\n",
        "x_train"
      ],
      "execution_count": null,
      "outputs": [
        {
          "output_type": "execute_result",
          "execution_count": 224,
          "data": {
            "text/plain": "array([[0.03251708, 0.        , 0.01149653, ..., 0.        , 0.        ,\n        0.        ],\n       [0.        , 0.        , 0.        , ..., 0.        , 0.        ,\n        0.        ],\n       [0.        , 0.        , 0.        , ..., 0.        , 0.        ,\n        0.        ],\n       ...,\n       [0.        , 0.        , 0.        , ..., 0.        , 0.        ,\n        0.        ],\n       [0.        , 0.        , 0.        , ..., 0.        , 0.        ,\n        0.        ],\n       [0.        , 0.        , 0.        , ..., 0.        , 0.        ,\n        0.        ]])"
          },
          "metadata": {}
        }
      ]
    },
    {
      "metadata": {
        "colab": {
          "base_uri": "https://localhost:8080/"
        },
        "id": "UxAdkAzzpUGu",
        "outputId": "88cd502d-524c-45d0-f40b-c3acc0a757fa"
      },
      "cell_type": "code",
      "source": [
        "y_train"
      ],
      "execution_count": null,
      "outputs": [
        {
          "output_type": "execute_result",
          "execution_count": 225,
          "data": {
            "text/plain": "array(['healthy', 'healthy', 'healthy', 'healthy', 'healthy', 'healthy',\n       'healthy', 'healthy', 'healthy', 'healthy', 'healthy', 'healthy',\n       'healthy', 'healthy', 'healthy', 'healthy', 'healthy', 'healthy',\n       'healthy', 'healthy', 'healthy', 'healthy', 'healthy', 'healthy',\n       'healthy', 'healthy', 'healthy', 'healthy', 'healthy', 'healthy',\n       'healthy', 'healthy', 'healthy', 'healthy', 'healthy', 'healthy',\n       'healthy', 'healthy', 'healthy', 'healthy', 'healthy', 'healthy',\n       'healthy', 'healthy', 'healthy', 'healthy', 'healthy', 'healthy',\n       'healthy', 'healthy', 'healthy', 'healthy', 'healthy', 'healthy',\n       'healthy', 'healthy', 'healthy', 'healthy', 'healthy', 'healthy',\n       'healthy', 'healthy', 'healthy', 'healthy', 'healthy', 'healthy',\n       'healthy', 'healthy', 'healthy', 'healthy', 'healthy', 'healthy',\n       'parkinson', 'parkinson', 'parkinson', 'parkinson', 'parkinson',\n       'parkinson', 'parkinson', 'parkinson', 'parkinson', 'parkinson',\n       'parkinson', 'parkinson', 'parkinson', 'parkinson', 'parkinson',\n       'parkinson', 'parkinson', 'parkinson', 'parkinson', 'parkinson',\n       'parkinson', 'parkinson', 'parkinson', 'parkinson', 'parkinson',\n       'parkinson', 'parkinson', 'parkinson', 'parkinson', 'parkinson',\n       'parkinson', 'parkinson', 'parkinson', 'parkinson', 'parkinson',\n       'parkinson', 'parkinson', 'parkinson', 'parkinson', 'parkinson',\n       'parkinson', 'parkinson', 'parkinson', 'parkinson', 'parkinson',\n       'parkinson', 'parkinson', 'parkinson', 'parkinson', 'parkinson',\n       'parkinson', 'parkinson', 'parkinson', 'parkinson', 'parkinson',\n       'parkinson', 'parkinson', 'parkinson', 'parkinson', 'parkinson',\n       'parkinson', 'parkinson', 'parkinson', 'parkinson', 'parkinson',\n       'parkinson', 'parkinson', 'parkinson', 'parkinson', 'parkinson',\n       'parkinson'], dtype='<U9')"
          },
          "metadata": {}
        }
      ]
    },
    {
      "metadata": {
        "colab": {
          "base_uri": "https://localhost:8080/"
        },
        "id": "TR4vKn7ouJk3",
        "outputId": "402a596f-f5f1-477b-aced-15ef37a1b928"
      },
      "cell_type": "code",
      "source": [
        "x_test"
      ],
      "execution_count": null,
      "outputs": [
        {
          "output_type": "execute_result",
          "execution_count": 226,
          "data": {
            "text/plain": "array([[0.        , 0.        , 0.        , ..., 0.        , 0.        ,\n        0.        ],\n       [0.        , 0.        , 0.        , ..., 0.        , 0.        ,\n        0.        ],\n       [0.01075467, 0.        , 0.01520941, ..., 0.        , 0.        ,\n        0.        ],\n       ...,\n       [0.        , 0.        , 0.        , ..., 0.        , 0.        ,\n        0.        ],\n       [0.        , 0.        , 0.        , ..., 0.        , 0.        ,\n        0.        ],\n       [0.        , 0.        , 0.        , ..., 0.        , 0.        ,\n        0.        ]])"
          },
          "metadata": {}
        }
      ]
    },
    {
      "metadata": {
        "colab": {
          "base_uri": "https://localhost:8080/"
        },
        "id": "CbTdP-89uMch",
        "outputId": "b136bbe2-324e-4f27-a4cb-974eac0fa9e2"
      },
      "cell_type": "code",
      "source": [
        "y_test"
      ],
      "execution_count": null,
      "outputs": [
        {
          "output_type": "execute_result",
          "execution_count": 227,
          "data": {
            "text/plain": "array(['healthy', 'healthy', 'healthy', 'healthy', 'healthy', 'healthy',\n       'healthy', 'healthy', 'healthy', 'healthy', 'healthy', 'healthy',\n       'healthy', 'healthy', 'healthy', 'healthy', 'healthy', 'healthy',\n       'healthy', 'healthy', 'healthy', 'healthy', 'healthy', 'healthy',\n       'healthy', 'healthy', 'healthy', 'healthy', 'healthy', 'healthy',\n       'parkinson', 'parkinson', 'parkinson', 'parkinson', 'parkinson',\n       'parkinson', 'parkinson', 'parkinson', 'parkinson', 'parkinson',\n       'parkinson', 'parkinson', 'parkinson', 'parkinson', 'parkinson',\n       'parkinson', 'parkinson', 'parkinson', 'parkinson', 'parkinson',\n       'parkinson', 'parkinson', 'parkinson', 'parkinson', 'parkinson',\n       'parkinson', 'parkinson', 'parkinson', 'parkinson', 'parkinson'],\n      dtype='<U9')"
          },
          "metadata": {}
        }
      ]
    },
    {
      "metadata": {
        "id": "ZsZun3wrwwSq"
      },
      "cell_type": "markdown",
      "source": [
        "##Label Encoding"
      ]
    },
    {
      "metadata": {
        "colab": {
          "base_uri": "https://localhost:8080/"
        },
        "id": "AfAFdBWLwwz-",
        "outputId": "4a4e425a-168a-4372-89f9-c2274acff232"
      },
      "cell_type": "code",
      "source": [
        "label_encoder = LabelEncoder()\n",
        "y_train = label_encoder.fit_transform(y_train)\n",
        "y_test = label_encoder.transform(y_test)\n",
        "print(x_train.shape, y_train.shape)"
      ],
      "execution_count": null,
      "outputs": [
        {
          "output_type": "stream",
          "text": "(143, 12996) (143,)\n",
          "name": "stdout"
        }
      ]
    },
    {
      "metadata": {
        "colab": {
          "base_uri": "https://localhost:8080/"
        },
        "id": "w7VCUCV7uoQo",
        "outputId": "e0abfb5d-2622-4fb9-e77d-7a309befd6a0"
      },
      "cell_type": "code",
      "source": [
        "y_train"
      ],
      "execution_count": null,
      "outputs": [
        {
          "output_type": "execute_result",
          "execution_count": 229,
          "data": {
            "text/plain": "array([0, 0, 0, 0, 0, 0, 0, 0, 0, 0, 0, 0, 0, 0, 0, 0, 0, 0, 0, 0, 0, 0,\n       0, 0, 0, 0, 0, 0, 0, 0, 0, 0, 0, 0, 0, 0, 0, 0, 0, 0, 0, 0, 0, 0,\n       0, 0, 0, 0, 0, 0, 0, 0, 0, 0, 0, 0, 0, 0, 0, 0, 0, 0, 0, 0, 0, 0,\n       0, 0, 0, 0, 0, 0, 1, 1, 1, 1, 1, 1, 1, 1, 1, 1, 1, 1, 1, 1, 1, 1,\n       1, 1, 1, 1, 1, 1, 1, 1, 1, 1, 1, 1, 1, 1, 1, 1, 1, 1, 1, 1, 1, 1,\n       1, 1, 1, 1, 1, 1, 1, 1, 1, 1, 1, 1, 1, 1, 1, 1, 1, 1, 1, 1, 1, 1,\n       1, 1, 1, 1, 1, 1, 1, 1, 1, 1, 1])"
          },
          "metadata": {}
        }
      ]
    },
    {
      "metadata": {
        "colab": {
          "base_uri": "https://localhost:8080/"
        },
        "id": "QaQKGwaovAeg",
        "outputId": "48775682-ec63-4698-bf97-0c6e6180a915"
      },
      "cell_type": "code",
      "source": [
        "y_test"
      ],
      "execution_count": null,
      "outputs": [
        {
          "output_type": "execute_result",
          "execution_count": 230,
          "data": {
            "text/plain": "array([0, 0, 0, 0, 0, 0, 0, 0, 0, 0, 0, 0, 0, 0, 0, 0, 0, 0, 0, 0, 0, 0,\n       0, 0, 0, 0, 0, 0, 0, 0, 1, 1, 1, 1, 1, 1, 1, 1, 1, 1, 1, 1, 1, 1,\n       1, 1, 1, 1, 1, 1, 1, 1, 1, 1, 1, 1, 1, 1, 1, 1])"
          },
          "metadata": {}
        }
      ]
    },
    {
      "metadata": {
        "id": "n1_JeOfg408g"
      },
      "cell_type": "markdown",
      "source": [
        "#MODEL BUILDING\n",
        "###Training the Model"
      ]
    },
    {
      "metadata": {
        "colab": {
          "base_uri": "https://localhost:8080/"
        },
        "id": "lYSO8v_-5LQO",
        "outputId": "60f74816-d2f9-4bb1-d882-6896824dd79b"
      },
      "cell_type": "code",
      "source": [
        "print(\"Training model....\")\n",
        "model = RandomForestClassifier(n_estimators=100)\n",
        "model.fit(x_train,y_train)"
      ],
      "execution_count": null,
      "outputs": [
        {
          "output_type": "stream",
          "text": "Training model....\n",
          "name": "stdout"
        },
        {
          "output_type": "execute_result",
          "execution_count": 231,
          "data": {
            "text/plain": "RandomForestClassifier()"
          },
          "metadata": {}
        }
      ]
    },
    {
      "metadata": {
        "colab": {
          "base_uri": "https://localhost:8080/"
        },
        "id": "-XwZtTio5UWn",
        "outputId": "d9ba9142-40e5-4d9d-9b48-389893f95883"
      },
      "cell_type": "code",
      "source": [
        "preds = model.predict(x_test)\n",
        "preds"
      ],
      "execution_count": null,
      "outputs": [
        {
          "output_type": "execute_result",
          "execution_count": 232,
          "data": {
            "text/plain": "array([0, 1, 0, 0, 1, 0, 0, 0, 0, 0, 0, 0, 0, 1, 0, 0, 0, 0, 0, 0, 0, 0,\n       0, 0, 0, 0, 0, 0, 1, 1, 1, 1, 1, 1, 0, 1, 1, 0, 1, 1, 1, 1, 0, 0,\n       1, 1, 0, 0, 1, 1, 0, 1, 1, 1, 0, 1, 1, 1, 1, 0])"
          },
          "metadata": {}
        }
      ]
    },
    {
      "metadata": {
        "id": "AzLvIjhD5nx0"
      },
      "cell_type": "markdown",
      "source": [
        "##Model Evalution"
      ]
    },
    {
      "metadata": {
        "colab": {
          "base_uri": "https://localhost:8080/"
        },
        "id": "i60mWZt65uwI",
        "outputId": "9ed38111-4af6-47a3-db03-1395f350a079"
      },
      "cell_type": "code",
      "source": [
        "cnf = confusion_matrix(y_test,preds)\n",
        "cnf"
      ],
      "execution_count": null,
      "outputs": [
        {
          "output_type": "execute_result",
          "execution_count": 233,
          "data": {
            "text/plain": "array([[25,  5],\n       [ 9, 21]])"
          },
          "metadata": {}
        }
      ]
    },
    {
      "metadata": {
        "colab": {
          "base_uri": "https://localhost:8080/",
          "height": 322
        },
        "id": "K6zH1aMu53TC",
        "outputId": "70658126-7b7e-4503-ae10-9b2a12083834"
      },
      "cell_type": "code",
      "source": [
        "plt.figure(figsize=(5,5))\n",
        "sns.heatmap(cnf , annot=True , cmap=\"coolwarm\" , cbar=False)\n",
        "plt.show()"
      ],
      "execution_count": null,
      "outputs": [
        {
          "output_type": "display_data",
          "data": {
            "text/plain": "<Figure size 360x360 with 1 Axes>",
            "image/png": "[encoded data removed]"
          },
          "metadata": {
            "needs_background": "light"
          }
        }
      ]
    },
    {
      "metadata": {
        "colab": {
          "base_uri": "https://localhost:8080/"
        },
        "id": "eVCgIi9w5_M8",
        "outputId": "ca3e70ea-000f-4fe0-9127-e05b0457a6ba"
      },
      "cell_type": "code",
      "source": [
        "acc = metrics.accuracy_score(y_test,preds)\n",
        "acc"
      ],
      "execution_count": null,
      "outputs": [
        {
          "output_type": "execute_result",
          "execution_count": 235,
          "data": {
            "text/plain": "0.7666666666666667"
          },
          "metadata": {}
        }
      ]
    },
    {
      "metadata": {
        "colab": {
          "base_uri": "https://localhost:8080/"
        },
        "id": "0IMZwJ-66_Zp",
        "outputId": "2f86ecf2-cb52-40e0-baeb-5526e9c043fc"
      },
      "cell_type": "code",
      "source": [
        "indexes = np.random.randint(0,30,25)\n",
        "indexes"
      ],
      "execution_count": null,
      "outputs": [
        {
          "output_type": "execute_result",
          "execution_count": 236,
          "data": {
            "text/plain": "array([ 7, 12, 29,  2,  2, 12,  2,  9,  6, 27, 20, 17,  9,  9,  5,  0, 23,\n       20, 12, 26, 23,  2,  7,  5, 13])"
          },
          "metadata": {}
        }
      ]
    },
    {
      "metadata": {
        "id": "hz4ZqWrD7Ht3"
      },
      "cell_type": "markdown",
      "source": [
        "#Testing the Model"
      ]
    },
    {
      "metadata": {
        "id": "Cct-ZYR27L3V"
      },
      "cell_type": "code",
      "source": [
        "testingPaths = list(paths.list_images(path_testing_data))\n",
        "idxs = np.arange(0, len(testingPaths))\n",
        "idxs = np.random.choice(idxs, size=(25,), replace=False) \n",
        "images = []\n",
        "\n",
        "for i in idxs:\n",
        "    # loading the testing image, clone it, and resize it \n",
        "    image = cv2.imread(testingPaths[i]) \n",
        "    output = image. copy() \n",
        "    output = cv2. resize(output, (128, 128))\n",
        "    \n",
        "    # pre-processing the image \n",
        "    image = cv2.cvtColor(image, cv2.COLOR_BGR2GRAY) \n",
        "    image = cv2.resize(image, (200, 200))\n",
        "    image = cv2.threshold(image, 0, 255, cv2.THRESH_BINARY_INV | cv2.THRESH_OTSU) [1]\n",
        "    \n",
        "    # quantify the image and make predictions based on the extracted \n",
        "    # features using the last trained Random Forest \n",
        "    features = quantify_image(image) \n",
        "    preds = model.predict([features])\n",
        "\n",
        "    label = label_encoder.inverse_transform(preds)[0]\n",
        "\n",
        "    # draw the colored class label on the output image and add it to the set of output images \n",
        "    if label == \"healthy\":\n",
        "        color = (0, 255, 0)  \n",
        "    else:\n",
        "        color = (0, 0, 255) \n",
        "    cv2.putText(output, label, (3, 20), cv2.FONT_HERSHEY_SIMPLEX, 0.5, color, 2) \n",
        "    images.append(output)"
      ],
      "execution_count": null,
      "outputs": []
    },
    {
      "metadata": {
        "id": "tbvehYp8XCKE"
      },
      "cell_type": "markdown",
      "source": [
        "##Predicting the model-Accuracy and Confusion Matrix"
      ]
    },
    {
      "metadata": {
        "colab": {
          "base_uri": "https://localhost:8080/"
        },
        "id": "AM55rRShWb8j",
        "outputId": "07cc446a-10a0-4b36-eb3d-ca046003d1a0"
      },
      "cell_type": "code",
      "source": [
        "predictions = model.predict(x_test)    # predictions on the testing data \n",
        "\n",
        "cm = confusion_matrix(y_test, predictions)   # computing the confusion matrix\n",
        "plt.figure(figsize=(10,6))\n",
        "sns.heatmap(cm, annot=True,cmap='winter',linewidths=0.3, linecolor='black',annot_kws={\"size\": 20})\n",
        "\n",
        "print(cm) \n",
        "(TN, FP, FN, TP) = cm.flatten()\n",
        "\n",
        "accuracy = (TP + TN) / float(cm.sum())     # computing the accuracy\n",
        "print(accuracy)\n",
        "\n",
        "print('Testing Sensitivity for Random Forest',(TP/(TP+FN)))\n",
        "print('Testing Specificity for Random Forest',(TN/(TN+FP)))\n",
        "print('Testing Precision for Random Forest',(TP/(TP+FP)))\n",
        "print('Testing accuracy for Random Forest',accuracy_score(y_test, predictions))"
      ],
      "execution_count": null,
      "outputs": [
        {
          "output_type": "stream",
          "text": "[[25  5]\n [ 9 21]]\n0.7666666666666667\nTesting Sensitivity for Random Forest 0.7\nTesting Specificity for Random Forest 0.8333333333333334\nTesting Precision for Random Forest 0.8076923076923077\nTesting accuracy for Random Forest 0.7666666666666667\n",
          "name": "stdout"
        },
        {
          "output_type": "display_data",
          "data": {
            "text/plain": "<Figure size 720x432 with 2 Axes>",
            "image/png": "[encoded data removed]"
          },
          "metadata": {
            "needs_background": "light"
          }
        }
      ]
    },
    {
      "metadata": {
        "id": "FG6EzCHH0BOS",
        "outputId": "97fc8b51-9de2-4d63-e993-ee427784a7d1"
      },
      "cell_type": "code",
      "source": [
        "print(classification_report(y_test,predictions))"
      ],
      "execution_count": null,
      "outputs": [
        {
          "output_type": "stream",
          "text": "              precision    recall  f1-score   support\n\n           0       0.74      0.83      0.78        30\n           1       0.81      0.70      0.75        30\n\n    accuracy                           0.77        60\n   macro avg       0.77      0.77      0.77        60\nweighted avg       0.77      0.77      0.77        60\n\n",
          "name": "stdout"
        }
      ]
    },
    {
      "metadata": {
        "id": "MXbqDMArbeQu"
      },
      "cell_type": "markdown",
      "source": [
        "#Deployment"
      ]
    },
    {
      "metadata": {
        "id": "YJz4DCu-bbcw"
      },
      "cell_type": "code",
      "source": [
        "pickle.dump(model,open('parkinson.pkl','wb')) "
      ],
      "execution_count": null,
      "outputs": []
    },
    {
      "metadata": {
        "id": "4UyX5PBk0BOV",
        "outputId": "86fcb454-7d97-477f-e871-fb3f15c8cbff"
      },
      "cell_type": "code",
      "source": [
        "!tar -zcvf image-classification-model_new.tgz parkinson.pkl"
      ],
      "execution_count": null,
      "outputs": [
        {
          "output_type": "stream",
          "text": "parkinson.pkl\r\n",
          "name": "stdout"
        }
      ]
    },
    {
      "metadata": {
        "id": "6LW4GxAH0BOW",
        "outputId": "43d0d8f0-0fc9-4a7d-9f06-bedaee628516"
      },
      "cell_type": "code",
      "source": [
        "ls"
      ],
      "execution_count": null,
      "outputs": [
        {
          "output_type": "stream",
          "text": "image-classification-model_new.tgz  my_model.tar.gz  \u001b[0m\u001b[01;34mspiral_wave\u001b[0m/\r\nmy.model.tar.gz                     parkinson.h5\r\nmy__model.tar.gz                    parkinson.pkl\r\n",
          "name": "stdout"
        }
      ]
    },
    {
      "metadata": {
        "id": "N0hb7BcG0BOX",
        "outputId": "92e78305-691e-4367-dec3-b7ded78eb63a"
      },
      "cell_type": "code",
      "source": [
        "!pip install watson-machine-learning-client --upgrade"
      ],
      "execution_count": null,
      "outputs": [
        {
          "output_type": "stream",
          "text": "Requirement already satisfied: watson-machine-learning-client in /opt/conda/envs/Python-3.9/lib/python3.9/site-packages (1.0.391)\nRequirement already satisfied: urllib3 in /opt/conda/envs/Python-3.9/lib/python3.9/site-packages (from watson-machine-learning-client) (1.26.7)\nRequirement already satisfied: tqdm in /opt/conda/envs/Python-3.9/lib/python3.9/site-packages (from watson-machine-learning-client) (4.62.3)\nRequirement already satisfied: boto3 in /opt/conda/envs/Python-3.9/lib/python3.9/site-packages (from watson-machine-learning-client) (1.18.21)\nRequirement already satisfied: ibm-cos-sdk in /opt/conda/envs/Python-3.9/lib/python3.9/site-packages (from watson-machine-learning-client) (2.11.0)\nRequirement already satisfied: requests in /opt/conda/envs/Python-3.9/lib/python3.9/site-packages (from watson-machine-learning-client) (2.26.0)\nRequirement already satisfied: tabulate in /opt/conda/envs/Python-3.9/lib/python3.9/site-packages (from watson-machine-learning-client) (0.8.9)\nRequirement already satisfied: pandas in /opt/conda/envs/Python-3.9/lib/python3.9/site-packages (from watson-machine-learning-client) (1.3.4)\nRequirement already satisfied: certifi in /opt/conda/envs/Python-3.9/lib/python3.9/site-packages (from watson-machine-learning-client) (2022.9.24)\nRequirement already satisfied: lomond in /opt/conda/envs/Python-3.9/lib/python3.9/site-packages (from watson-machine-learning-client) (0.3.3)\nRequirement already satisfied: botocore<1.22.0,>=1.21.21 in /opt/conda/envs/Python-3.9/lib/python3.9/site-packages (from boto3->watson-machine-learning-client) (1.21.41)\nRequirement already satisfied: s3transfer<0.6.0,>=0.5.0 in /opt/conda/envs/Python-3.9/lib/python3.9/site-packages (from boto3->watson-machine-learning-client) (0.5.0)\nRequirement already satisfied: jmespath<1.0.0,>=0.7.1 in /opt/conda/envs/Python-3.9/lib/python3.9/site-packages (from boto3->watson-machine-learning-client) (0.10.0)\nRequirement already satisfied: python-dateutil<3.0.0,>=2.1 in /opt/conda/envs/Python-3.9/lib/python3.9/site-packages (from botocore<1.22.0,>=1.21.21->boto3->watson-machine-learning-client) (2.8.2)\nRequirement already satisfied: six>=1.5 in /opt/conda/envs/Python-3.9/lib/python3.9/site-packages (from python-dateutil<3.0.0,>=2.1->botocore<1.22.0,>=1.21.21->boto3->watson-machine-learning-client) (1.15.0)\nRequirement already satisfied: ibm-cos-sdk-s3transfer==2.11.0 in /opt/conda/envs/Python-3.9/lib/python3.9/site-packages (from ibm-cos-sdk->watson-machine-learning-client) (2.11.0)\nRequirement already satisfied: ibm-cos-sdk-core==2.11.0 in /opt/conda/envs/Python-3.9/lib/python3.9/site-packages (from ibm-cos-sdk->watson-machine-learning-client) (2.11.0)\nRequirement already satisfied: charset-normalizer~=2.0.0 in /opt/conda/envs/Python-3.9/lib/python3.9/site-packages (from requests->watson-machine-learning-client) (2.0.4)\nRequirement already satisfied: idna<4,>=2.5 in /opt/conda/envs/Python-3.9/lib/python3.9/site-packages (from requests->watson-machine-learning-client) (3.3)\nRequirement already satisfied: pytz>=2017.3 in /opt/conda/envs/Python-3.9/lib/python3.9/site-packages (from pandas->watson-machine-learning-client) (2021.3)\nRequirement already satisfied: numpy>=1.17.3 in /opt/conda/envs/Python-3.9/lib/python3.9/site-packages (from pandas->watson-machine-learning-client) (1.20.3)\n",
          "name": "stdout"
        }
      ]
    },
    {
      "metadata": {
        "id": "Nh6ThVzT0BOZ"
      },
      "cell_type": "code",
      "source": [
        "#Replace the credentials that you got from watson Machine Learning Service\n",
        "from ibm_watson_machine_learning import APIClient\n",
        "wml_credentials = {\n",
        "                    \"url\": \"https://us-south.ml.cloud.ibm.com\",\n",
        "                    \"apikey\": \"8QLMqsHMjuR6Z0k647bSq0cesTXqS0PX83hcb60OdJhP\"\n",
        "                  }\n",
        "client = APIClient(wml_credentials)"
      ],
      "execution_count": null,
      "outputs": []
    },
    {
      "metadata": {
        "id": "92JoWttQ0BOa"
      },
      "cell_type": "code",
      "source": [
        "client = APIClient(wml_credentials)"
      ],
      "execution_count": null,
      "outputs": []
    },
    {
      "metadata": {
        "id": "K0qkPh6a0BOa",
        "outputId": "7b48f192-e9f6-4f34-fe25-461ddf7c3e50"
      },
      "cell_type": "code",
      "source": [
        "client.spaces.list()"
      ],
      "execution_count": null,
      "outputs": [
        {
          "output_type": "stream",
          "text": "Note: 'limit' is not provided. Only first 50 records will be displayed if the number of records exceed 50\n------------------------------------  --------------------------------------------------  ------------------------\nID                                    NAME                                                CREATED\nedb8e45d-9b5f-4ee6-b9e6-9cf791c31343  Detecting Parkinson Disease Using Machine Learning  2022-11-20T07:24:21.869Z\n------------------------------------  --------------------------------------------------  ------------------------\n",
          "name": "stdout"
        }
      ]
    },
    {
      "metadata": {
        "id": "ymcLccJu0BOc",
        "outputId": "7035b32b-60bd-4541-e7df-1d17e512b47e"
      },
      "cell_type": "code",
      "source": [
        "space_id = guid_from_space_name(client,'Detecting Parkinson Disease Using Machine Learning')\n",
        "print('Space UID = ' + space_uid)"
      ],
      "execution_count": null,
      "outputs": [
        {
          "output_type": "stream",
          "text": "Space UID = edb8e45d-9b5f-4ee6-b9e6-9cf791c31343\n",
          "name": "stdout"
        }
      ]
    },
    {
      "metadata": {
        "id": "-OzqTOlk0BOd",
        "outputId": "587574c9-5165-4e1c-861b-2740724e7fc9"
      },
      "cell_type": "code",
      "source": [
        "client.set.default_space(space_id)"
      ],
      "execution_count": null,
      "outputs": [
        {
          "output_type": "execute_result",
          "execution_count": 253,
          "data": {
            "text/plain": "'SUCCESS'"
          },
          "metadata": {}
        }
      ]
    },
    {
      "metadata": {
        "id": "MzJHbtly0BOe",
        "outputId": "8f4d99de-d657-404f-a6d6-e9937a91ba7e"
      },
      "cell_type": "code",
      "source": [
        "client.set.default_space(space_id)"
      ],
      "execution_count": null,
      "outputs": [
        {
          "output_type": "execute_result",
          "execution_count": 254,
          "data": {
            "text/plain": "'SUCCESS'"
          },
          "metadata": {}
        }
      ]
    },
    {
      "metadata": {
        "id": "nxY76N5t0BOf",
        "outputId": "67cfef4b-3fb9-4c11-e65b-a03ebe590469"
      },
      "cell_type": "code",
      "source": [
        "client.software_specifications.list()"
      ],
      "execution_count": null,
      "outputs": [
        {
          "output_type": "stream",
          "text": "-----------------------------  ------------------------------------  ----\nNAME                           ASSET_ID                              TYPE\ndefault_py3.6                  0062b8c9-8b7d-44a0-a9b9-46c416adcbd9  base\nkernel-spark3.2-scala2.12      020d69ce-7ac1-5e68-ac1a-31189867356a  base\npytorch-onnx_1.3-py3.7-edt     069ea134-3346-5748-b513-49120e15d288  base\nscikit-learn_0.20-py3.6        09c5a1d0-9c1e-4473-a344-eb7b665ff687  base\nspark-mllib_3.0-scala_2.12     09f4cff0-90a7-5899-b9ed-1ef348aebdee  base\npytorch-onnx_rt22.1-py3.9      0b848dd4-e681-5599-be41-b5f6fccc6471  base\nai-function_0.1-py3.6          0cdb0f1e-5376-4f4d-92dd-da3b69aa9bda  base\nshiny-r3.6                     0e6e79df-875e-4f24-8ae9-62dcc2148306  base\ntensorflow_2.4-py3.7-horovod   1092590a-307d-563d-9b62-4eb7d64b3f22  base\npytorch_1.1-py3.6              10ac12d6-6b30-4ccd-8392-3e922c096a92  base\ntensorflow_1.15-py3.6-ddl      111e41b3-de2d-5422-a4d6-bf776828c4b7  base\nautoai-kb_rt22.2-py3.10        125b6d9a-5b1f-5e8d-972a-b251688ccf40  base\nruntime-22.1-py3.9             12b83a17-24d8-5082-900f-0ab31fbfd3cb  base\nscikit-learn_0.22-py3.6        154010fa-5b3b-4ac1-82af-4d5ee5abbc85  base\ndefault_r3.6                   1b70aec3-ab34-4b87-8aa0-a4a3c8296a36  base\npytorch-onnx_1.3-py3.6         1bc6029a-cc97-56da-b8e0-39c3880dbbe7  base\nkernel-spark3.3-r3.6           1c9e5454-f216-59dd-a20e-474a5cdf5988  base\npytorch-onnx_rt22.1-py3.9-edt  1d362186-7ad5-5b59-8b6c-9d0880bde37f  base\ntensorflow_2.1-py3.6           1eb25b84-d6ed-5dde-b6a5-3fbdf1665666  base\nspark-mllib_3.2                20047f72-0a98-58c7-9ff5-a77b012eb8f5  base\ntensorflow_2.4-py3.8-horovod   217c16f6-178f-56bf-824a-b19f20564c49  base\nruntime-22.1-py3.9-cuda        26215f05-08c3-5a41-a1b0-da66306ce658  base\ndo_py3.8                       295addb5-9ef9-547e-9bf4-92ae3563e720  base\nautoai-ts_3.8-py3.8            2aa0c932-798f-5ae9-abd6-15e0c2402fb5  base\ntensorflow_1.15-py3.6          2b73a275-7cbf-420b-a912-eae7f436e0bc  base\nkernel-spark3.3-py3.9          2b7961e2-e3b1-5a8c-a491-482c8368839a  base\npytorch_1.2-py3.6              2c8ef57d-2687-4b7d-acce-01f94976dac1  base\nspark-mllib_2.3                2e51f700-bca0-4b0d-88dc-5c6791338875  base\npytorch-onnx_1.1-py3.6-edt     32983cea-3f32-4400-8965-dde874a8d67e  base\nspark-mllib_3.0-py37           36507ebe-8770-55ba-ab2a-eafe787600e9  base\nspark-mllib_2.4                390d21f8-e58b-4fac-9c55-d7ceda621326  base\nautoai-ts_rt22.2-py3.10        396b2e83-0953-5b86-9a55-7ce1628a406f  base\nxgboost_0.82-py3.6             39e31acd-5f30-41dc-ae44-60233c80306e  base\npytorch-onnx_1.2-py3.6-edt     40589d0e-7019-4e28-8daa-fb03b6f4fe12  base\npytorch-onnx_rt22.2-py3.10     40e73f55-783a-5535-b3fa-0c8b94291431  base\ndefault_r36py38                41c247d3-45f8-5a71-b065-8580229facf0  base\nautoai-ts_rt22.1-py3.9         4269d26e-07ba-5d40-8f66-2d495b0c71f7  base\nautoai-obm_3.0                 42b92e18-d9ab-567f-988a-4240ba1ed5f7  base\npmml-3.0_4.3                   493bcb95-16f1-5bc5-bee8-81b8af80e9c7  base\nspark-mllib_2.4-r_3.6          49403dff-92e9-4c87-a3d7-a42d0021c095  base\nxgboost_0.90-py3.6             4ff8d6c2-1343-4c18-85e1-689c965304d3  base\npytorch-onnx_1.1-py3.6         50f95b2a-bc16-43bb-bc94-b0bed208c60b  base\nautoai-ts_3.9-py3.8            52c57136-80fa-572e-8728-a5e7cbb42cde  base\nspark-mllib_2.4-scala_2.11     55a70f99-7320-4be5-9fb9-9edb5a443af5  base\nspark-mllib_3.0                5c1b0ca2-4977-5c2e-9439-ffd44ea8ffe9  base\nautoai-obm_2.0                 5c2e37fa-80b8-5e77-840f-d912469614ee  base\nspss-modeler_18.1              5c3cad7e-507f-4b2a-a9a3-ab53a21dee8b  base\ncuda-py3.8                     5d3232bf-c86b-5df4-a2cd-7bb870a1cd4e  base\nruntime-22.2-py3.10-xc         5e8cddff-db4a-5a6a-b8aa-2d4af9864dab  base\nautoai-kb_3.1-py3.7            632d4b22-10aa-5180-88f0-f52dfb6444d7  base\n-----------------------------  ------------------------------------  ----\nNote: Only first 50 records were displayed. To display more use 'limit' parameter.\n",
          "name": "stdout"
        }
      ]
    },
    {
      "metadata": {
        "id": "I01o5POz0BOg",
        "outputId": "72b04ce5-07a6-45bc-f166-b106af472e31"
      },
      "cell_type": "code",
      "source": [
        "software_spec_uid=client.software_specifications.get_uid_by_name(\"runtime-22.1-py3.9\") \n",
        "software_spec_uid"
      ],
      "execution_count": null,
      "outputs": [
        {
          "output_type": "execute_result",
          "execution_count": 257,
          "data": {
            "text/plain": "'12b83a17-24d8-5082-900f-0ab31fbfd3cb'"
          },
          "metadata": {}
        }
      ]
    },
    {
      "metadata": {
        "id": "yEVvXbA30BOh",
        "outputId": "7d46ccc8-c562-4b0e-e301-06ad35454ad9"
      },
      "cell_type": "code",
      "source": [
        " model_details = client.repository.store_model(model='image-classification-model_new.tgz',meta_props={ \n",
        "     client.repository.ModelMetaNames.NAME: \"CNN\",\n",
        "     client.repository.ModelMetaNames.TYPE: \"scikit-learn_1.0\",\n",
        "     client.repository.ModelMetaNames.SOFTWARE_SPEC_UID:software_spec_uid}\n",
        "                                              )\n",
        "model_id = client.repository.get_model_uid(model_details)\n",
        " "
      ],
      "execution_count": null,
      "outputs": [
        {
          "output_type": "stream",
          "text": "This method is deprecated, please use get_model_id()\n",
          "name": "stdout"
        },
        {
          "output_type": "stream",
          "text": "/opt/conda/envs/Python-3.9/lib/python3.9/site-packages/ibm_watson_machine_learning/repository.py:1453: UserWarning: This method is deprecated, please use get_model_id()\n  warn(\"This method is deprecated, please use get_model_id()\")\n",
          "name": "stderr"
        }
      ]
    },
    {
      "metadata": {
        "id": "ifpLUuEv0BOi"
      },
      "cell_type": "code",
      "source": [
        "DEPLOYMENT_NAME=\"Detecting Parkinson Disease Using Machine Learning\"\n",
        "DEMO_MODEL=model"
      ],
      "execution_count": null,
      "outputs": []
    },
    {
      "metadata": {
        "id": "-TKfPYox0BOj"
      },
      "cell_type": "code",
      "source": [
        "model_details\n",
        "model_id=client.repository.get_model_id(model_details)\n",
        "dep_props={\n",
        " client.deployments.ConfigurationMetaNames.NAME:DEPLOYMENT_NAME,\n",
        " client.deployments.ConfigurationMetaNames.ONLINE:{}\n",
        "}"
      ],
      "execution_count": null,
      "outputs": []
    },
    {
      "metadata": {
        "id": "wikWicNW0BOk",
        "outputId": "b9b3c071-9b72-42a8-aa94-7688756c685b"
      },
      "cell_type": "code",
      "source": [
        "deployment=client.deployments.create(artifact_uid=model_id,meta_props=dep_props)"
      ],
      "execution_count": null,
      "outputs": [
        {
          "output_type": "stream",
          "text": "\n\n#######################################################################################\n\nSynchronous deployment creation for uid: '6a4ca201-569f-4a64-bd5a-d5aeb29d2e28' started\n\n#######################################################################################\n\n\ninitializing\nNote: online_url is deprecated and will be removed in a future release. Use serving_urls instead.\n\nready\n\n\n------------------------------------------------------------------------------------------------\nSuccessfully finished deployment creation, deployment_uid='bf71c28e-eeff-47c2-9fa3-26386b134263'\n------------------------------------------------------------------------------------------------\n\n\n",
          "name": "stdout"
        }
      ]
    }
  ],
  "metadata": {
    "colab": {
      "provenance": []
    },
    "kernelspec": {
      "name": "python3",
      "display_name": "Python 3.9",
      "language": "python"
    },
    "language_info": {
      "name": "python",
      "version": "3.9.13",
      "mimetype": "text/x-python",
      "codemirror_mode": {
        "name": "ipython",
        "version": 3
      },
      "pygments_lexer": "ipython3",
      "nbconvert_exporter": "python",
      "file_extension": ".py"
    }
  },
  "nbformat": 4,
  "nbformat_minor": 0
}